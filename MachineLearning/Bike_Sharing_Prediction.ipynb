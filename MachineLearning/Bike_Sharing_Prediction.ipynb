{
  "nbformat": 4,
  "nbformat_minor": 0,
  "metadata": {
    "colab": {
      "name": "Bike Sharing Prediction.ipynb",
      "provenance": [],
      "collapsed_sections": []
    },
    "kernelspec": {
      "name": "python3",
      "display_name": "Python 3"
    },
    "accelerator": "GPU"
  },
  "cells": [
    {
      "cell_type": "code",
      "metadata": {
        "colab": {
          "base_uri": "https://localhost:8080/"
        },
        "id": "pUOXnL1DMt2p",
        "outputId": "69bec7ab-0133-4198-a32e-654c5d560f5c"
      },
      "source": [
        "import numpy as np\r\n",
        "import pandas as pd\r\n",
        "import matplotlib.pyplot as plt\r\n",
        "import tensorflow as tf\r\n",
        "from tensorflow.keras.models import Sequential\r\n",
        "from tensorflow.keras.layers import Dense,Flatten,BatchNormalization\r\n",
        "from tensorflow.keras.optimizers import Adam\r\n",
        "from tensorflow.keras.utils import to_categorical\r\n",
        "from google.colab import drive\r\n",
        "\r\n",
        "drive.mount('/content/drive')\r\n",
        "data_path = '/content/drive/My Drive/Colab Notebooks/dataset/Bike_sharing/'"
      ],
      "execution_count": null,
      "outputs": [
        {
          "output_type": "stream",
          "text": [
            "Mounted at /content/drive\n"
          ],
          "name": "stdout"
        }
      ]
    },
    {
      "cell_type": "code",
      "metadata": {
        "colab": {
          "base_uri": "https://localhost:8080/",
          "height": 204
        },
        "id": "-wOaG8_gOwc5",
        "outputId": "0f296979-b0af-424c-9e47-65feb6236307"
      },
      "source": [
        "train_data = pd.read_csv(data_path+'train.csv',header=0,delimiter=',',quoting=3,parse_dates=['datetime'])\r\n",
        "test_data = pd.read_csv(data_path+'test.csv',header=0,delimiter=',',quoting=3,parse_dates=['datetime'])\r\n",
        "train_data.head()"
      ],
      "execution_count": null,
      "outputs": [
        {
          "output_type": "execute_result",
          "data": {
            "text/html": [
              "<div>\n",
              "<style scoped>\n",
              "    .dataframe tbody tr th:only-of-type {\n",
              "        vertical-align: middle;\n",
              "    }\n",
              "\n",
              "    .dataframe tbody tr th {\n",
              "        vertical-align: top;\n",
              "    }\n",
              "\n",
              "    .dataframe thead th {\n",
              "        text-align: right;\n",
              "    }\n",
              "</style>\n",
              "<table border=\"1\" class=\"dataframe\">\n",
              "  <thead>\n",
              "    <tr style=\"text-align: right;\">\n",
              "      <th></th>\n",
              "      <th>datetime</th>\n",
              "      <th>season</th>\n",
              "      <th>holiday</th>\n",
              "      <th>workingday</th>\n",
              "      <th>weather</th>\n",
              "      <th>temp</th>\n",
              "      <th>atemp</th>\n",
              "      <th>humidity</th>\n",
              "      <th>windspeed</th>\n",
              "      <th>casual</th>\n",
              "      <th>registered</th>\n",
              "      <th>count</th>\n",
              "    </tr>\n",
              "  </thead>\n",
              "  <tbody>\n",
              "    <tr>\n",
              "      <th>0</th>\n",
              "      <td>2011-01-01 00:00:00</td>\n",
              "      <td>1</td>\n",
              "      <td>0</td>\n",
              "      <td>0</td>\n",
              "      <td>1</td>\n",
              "      <td>9.84</td>\n",
              "      <td>14.395</td>\n",
              "      <td>81</td>\n",
              "      <td>0.0</td>\n",
              "      <td>3</td>\n",
              "      <td>13</td>\n",
              "      <td>16</td>\n",
              "    </tr>\n",
              "    <tr>\n",
              "      <th>1</th>\n",
              "      <td>2011-01-01 01:00:00</td>\n",
              "      <td>1</td>\n",
              "      <td>0</td>\n",
              "      <td>0</td>\n",
              "      <td>1</td>\n",
              "      <td>9.02</td>\n",
              "      <td>13.635</td>\n",
              "      <td>80</td>\n",
              "      <td>0.0</td>\n",
              "      <td>8</td>\n",
              "      <td>32</td>\n",
              "      <td>40</td>\n",
              "    </tr>\n",
              "    <tr>\n",
              "      <th>2</th>\n",
              "      <td>2011-01-01 02:00:00</td>\n",
              "      <td>1</td>\n",
              "      <td>0</td>\n",
              "      <td>0</td>\n",
              "      <td>1</td>\n",
              "      <td>9.02</td>\n",
              "      <td>13.635</td>\n",
              "      <td>80</td>\n",
              "      <td>0.0</td>\n",
              "      <td>5</td>\n",
              "      <td>27</td>\n",
              "      <td>32</td>\n",
              "    </tr>\n",
              "    <tr>\n",
              "      <th>3</th>\n",
              "      <td>2011-01-01 03:00:00</td>\n",
              "      <td>1</td>\n",
              "      <td>0</td>\n",
              "      <td>0</td>\n",
              "      <td>1</td>\n",
              "      <td>9.84</td>\n",
              "      <td>14.395</td>\n",
              "      <td>75</td>\n",
              "      <td>0.0</td>\n",
              "      <td>3</td>\n",
              "      <td>10</td>\n",
              "      <td>13</td>\n",
              "    </tr>\n",
              "    <tr>\n",
              "      <th>4</th>\n",
              "      <td>2011-01-01 04:00:00</td>\n",
              "      <td>1</td>\n",
              "      <td>0</td>\n",
              "      <td>0</td>\n",
              "      <td>1</td>\n",
              "      <td>9.84</td>\n",
              "      <td>14.395</td>\n",
              "      <td>75</td>\n",
              "      <td>0.0</td>\n",
              "      <td>0</td>\n",
              "      <td>1</td>\n",
              "      <td>1</td>\n",
              "    </tr>\n",
              "  </tbody>\n",
              "</table>\n",
              "</div>"
            ],
            "text/plain": [
              "             datetime  season  holiday  ...  casual  registered  count\n",
              "0 2011-01-01 00:00:00       1        0  ...       3          13     16\n",
              "1 2011-01-01 01:00:00       1        0  ...       8          32     40\n",
              "2 2011-01-01 02:00:00       1        0  ...       5          27     32\n",
              "3 2011-01-01 03:00:00       1        0  ...       3          10     13\n",
              "4 2011-01-01 04:00:00       1        0  ...       0           1      1\n",
              "\n",
              "[5 rows x 12 columns]"
            ]
          },
          "metadata": {
            "tags": []
          },
          "execution_count": 3
        }
      ]
    },
    {
      "cell_type": "code",
      "metadata": {
        "id": "Y71-VEgOQOUy",
        "colab": {
          "base_uri": "https://localhost:8080/",
          "height": 204
        },
        "outputId": "d2c72a73-60a2-4386-88f4-995f62033990"
      },
      "source": [
        "test_data.head()"
      ],
      "execution_count": null,
      "outputs": [
        {
          "output_type": "execute_result",
          "data": {
            "text/html": [
              "<div>\n",
              "<style scoped>\n",
              "    .dataframe tbody tr th:only-of-type {\n",
              "        vertical-align: middle;\n",
              "    }\n",
              "\n",
              "    .dataframe tbody tr th {\n",
              "        vertical-align: top;\n",
              "    }\n",
              "\n",
              "    .dataframe thead th {\n",
              "        text-align: right;\n",
              "    }\n",
              "</style>\n",
              "<table border=\"1\" class=\"dataframe\">\n",
              "  <thead>\n",
              "    <tr style=\"text-align: right;\">\n",
              "      <th></th>\n",
              "      <th>datetime</th>\n",
              "      <th>season</th>\n",
              "      <th>holiday</th>\n",
              "      <th>workingday</th>\n",
              "      <th>weather</th>\n",
              "      <th>temp</th>\n",
              "      <th>atemp</th>\n",
              "      <th>humidity</th>\n",
              "      <th>windspeed</th>\n",
              "    </tr>\n",
              "  </thead>\n",
              "  <tbody>\n",
              "    <tr>\n",
              "      <th>0</th>\n",
              "      <td>2011-01-20 00:00:00</td>\n",
              "      <td>1</td>\n",
              "      <td>0</td>\n",
              "      <td>1</td>\n",
              "      <td>1</td>\n",
              "      <td>10.66</td>\n",
              "      <td>11.365</td>\n",
              "      <td>56</td>\n",
              "      <td>26.0027</td>\n",
              "    </tr>\n",
              "    <tr>\n",
              "      <th>1</th>\n",
              "      <td>2011-01-20 01:00:00</td>\n",
              "      <td>1</td>\n",
              "      <td>0</td>\n",
              "      <td>1</td>\n",
              "      <td>1</td>\n",
              "      <td>10.66</td>\n",
              "      <td>13.635</td>\n",
              "      <td>56</td>\n",
              "      <td>0.0000</td>\n",
              "    </tr>\n",
              "    <tr>\n",
              "      <th>2</th>\n",
              "      <td>2011-01-20 02:00:00</td>\n",
              "      <td>1</td>\n",
              "      <td>0</td>\n",
              "      <td>1</td>\n",
              "      <td>1</td>\n",
              "      <td>10.66</td>\n",
              "      <td>13.635</td>\n",
              "      <td>56</td>\n",
              "      <td>0.0000</td>\n",
              "    </tr>\n",
              "    <tr>\n",
              "      <th>3</th>\n",
              "      <td>2011-01-20 03:00:00</td>\n",
              "      <td>1</td>\n",
              "      <td>0</td>\n",
              "      <td>1</td>\n",
              "      <td>1</td>\n",
              "      <td>10.66</td>\n",
              "      <td>12.880</td>\n",
              "      <td>56</td>\n",
              "      <td>11.0014</td>\n",
              "    </tr>\n",
              "    <tr>\n",
              "      <th>4</th>\n",
              "      <td>2011-01-20 04:00:00</td>\n",
              "      <td>1</td>\n",
              "      <td>0</td>\n",
              "      <td>1</td>\n",
              "      <td>1</td>\n",
              "      <td>10.66</td>\n",
              "      <td>12.880</td>\n",
              "      <td>56</td>\n",
              "      <td>11.0014</td>\n",
              "    </tr>\n",
              "  </tbody>\n",
              "</table>\n",
              "</div>"
            ],
            "text/plain": [
              "             datetime  season  holiday  ...   atemp  humidity  windspeed\n",
              "0 2011-01-20 00:00:00       1        0  ...  11.365        56    26.0027\n",
              "1 2011-01-20 01:00:00       1        0  ...  13.635        56     0.0000\n",
              "2 2011-01-20 02:00:00       1        0  ...  13.635        56     0.0000\n",
              "3 2011-01-20 03:00:00       1        0  ...  12.880        56    11.0014\n",
              "4 2011-01-20 04:00:00       1        0  ...  12.880        56    11.0014\n",
              "\n",
              "[5 rows x 9 columns]"
            ]
          },
          "metadata": {
            "tags": []
          },
          "execution_count": 4
        }
      ]
    },
    {
      "cell_type": "code",
      "metadata": {
        "id": "pSxVT9PTQP-q"
      },
      "source": [
        "train_data.temp.describe()"
      ],
      "execution_count": null,
      "outputs": []
    },
    {
      "cell_type": "code",
      "metadata": {
        "colab": {
          "base_uri": "https://localhost:8080/"
        },
        "id": "YxYuV_6rR1hZ",
        "outputId": "9222f0b7-b953-4917-a3bb-2a43ba9fc62f"
      },
      "source": [
        "train_label = train_data['count']\r\n",
        "train_label.head()\r\n",
        "print(train_label.shape)"
      ],
      "execution_count": null,
      "outputs": [
        {
          "output_type": "stream",
          "text": [
            "(10886,)\n"
          ],
          "name": "stdout"
        }
      ]
    },
    {
      "cell_type": "code",
      "metadata": {
        "id": "HNQMP2rVSS5Y",
        "colab": {
          "base_uri": "https://localhost:8080/",
          "height": 204
        },
        "outputId": "f2efef39-7cfc-4aec-becd-2283ecb0952b"
      },
      "source": [
        "train_data['year']=train_data['datetime'].dt.year\r\n",
        "train_data['month']=train_data['datetime'].dt.month\r\n",
        "train_data['day']=train_data['datetime'].dt.day\r\n",
        "train_data['hour']=train_data['datetime'].dt.hour\r\n",
        "train_data['minute']=train_data['datetime'].dt.minute\r\n",
        "train_data['second']=train_data['datetime'].dt.second\r\n",
        "train_data.head()"
      ],
      "execution_count": null,
      "outputs": [
        {
          "output_type": "execute_result",
          "data": {
            "text/html": [
              "<div>\n",
              "<style scoped>\n",
              "    .dataframe tbody tr th:only-of-type {\n",
              "        vertical-align: middle;\n",
              "    }\n",
              "\n",
              "    .dataframe tbody tr th {\n",
              "        vertical-align: top;\n",
              "    }\n",
              "\n",
              "    .dataframe thead th {\n",
              "        text-align: right;\n",
              "    }\n",
              "</style>\n",
              "<table border=\"1\" class=\"dataframe\">\n",
              "  <thead>\n",
              "    <tr style=\"text-align: right;\">\n",
              "      <th></th>\n",
              "      <th>datetime</th>\n",
              "      <th>season</th>\n",
              "      <th>holiday</th>\n",
              "      <th>workingday</th>\n",
              "      <th>weather</th>\n",
              "      <th>temp</th>\n",
              "      <th>atemp</th>\n",
              "      <th>humidity</th>\n",
              "      <th>windspeed</th>\n",
              "      <th>casual</th>\n",
              "      <th>registered</th>\n",
              "      <th>count</th>\n",
              "      <th>year</th>\n",
              "      <th>month</th>\n",
              "      <th>day</th>\n",
              "      <th>hour</th>\n",
              "      <th>minute</th>\n",
              "      <th>second</th>\n",
              "    </tr>\n",
              "  </thead>\n",
              "  <tbody>\n",
              "    <tr>\n",
              "      <th>0</th>\n",
              "      <td>2011-01-01 00:00:00</td>\n",
              "      <td>1</td>\n",
              "      <td>0</td>\n",
              "      <td>0</td>\n",
              "      <td>1</td>\n",
              "      <td>9.84</td>\n",
              "      <td>14.395</td>\n",
              "      <td>81</td>\n",
              "      <td>0.0</td>\n",
              "      <td>3</td>\n",
              "      <td>13</td>\n",
              "      <td>16</td>\n",
              "      <td>2011</td>\n",
              "      <td>1</td>\n",
              "      <td>1</td>\n",
              "      <td>0</td>\n",
              "      <td>0</td>\n",
              "      <td>0</td>\n",
              "    </tr>\n",
              "    <tr>\n",
              "      <th>1</th>\n",
              "      <td>2011-01-01 01:00:00</td>\n",
              "      <td>1</td>\n",
              "      <td>0</td>\n",
              "      <td>0</td>\n",
              "      <td>1</td>\n",
              "      <td>9.02</td>\n",
              "      <td>13.635</td>\n",
              "      <td>80</td>\n",
              "      <td>0.0</td>\n",
              "      <td>8</td>\n",
              "      <td>32</td>\n",
              "      <td>40</td>\n",
              "      <td>2011</td>\n",
              "      <td>1</td>\n",
              "      <td>1</td>\n",
              "      <td>1</td>\n",
              "      <td>0</td>\n",
              "      <td>0</td>\n",
              "    </tr>\n",
              "    <tr>\n",
              "      <th>2</th>\n",
              "      <td>2011-01-01 02:00:00</td>\n",
              "      <td>1</td>\n",
              "      <td>0</td>\n",
              "      <td>0</td>\n",
              "      <td>1</td>\n",
              "      <td>9.02</td>\n",
              "      <td>13.635</td>\n",
              "      <td>80</td>\n",
              "      <td>0.0</td>\n",
              "      <td>5</td>\n",
              "      <td>27</td>\n",
              "      <td>32</td>\n",
              "      <td>2011</td>\n",
              "      <td>1</td>\n",
              "      <td>1</td>\n",
              "      <td>2</td>\n",
              "      <td>0</td>\n",
              "      <td>0</td>\n",
              "    </tr>\n",
              "    <tr>\n",
              "      <th>3</th>\n",
              "      <td>2011-01-01 03:00:00</td>\n",
              "      <td>1</td>\n",
              "      <td>0</td>\n",
              "      <td>0</td>\n",
              "      <td>1</td>\n",
              "      <td>9.84</td>\n",
              "      <td>14.395</td>\n",
              "      <td>75</td>\n",
              "      <td>0.0</td>\n",
              "      <td>3</td>\n",
              "      <td>10</td>\n",
              "      <td>13</td>\n",
              "      <td>2011</td>\n",
              "      <td>1</td>\n",
              "      <td>1</td>\n",
              "      <td>3</td>\n",
              "      <td>0</td>\n",
              "      <td>0</td>\n",
              "    </tr>\n",
              "    <tr>\n",
              "      <th>4</th>\n",
              "      <td>2011-01-01 04:00:00</td>\n",
              "      <td>1</td>\n",
              "      <td>0</td>\n",
              "      <td>0</td>\n",
              "      <td>1</td>\n",
              "      <td>9.84</td>\n",
              "      <td>14.395</td>\n",
              "      <td>75</td>\n",
              "      <td>0.0</td>\n",
              "      <td>0</td>\n",
              "      <td>1</td>\n",
              "      <td>1</td>\n",
              "      <td>2011</td>\n",
              "      <td>1</td>\n",
              "      <td>1</td>\n",
              "      <td>4</td>\n",
              "      <td>0</td>\n",
              "      <td>0</td>\n",
              "    </tr>\n",
              "  </tbody>\n",
              "</table>\n",
              "</div>"
            ],
            "text/plain": [
              "             datetime  season  holiday  workingday  ...  day  hour  minute  second\n",
              "0 2011-01-01 00:00:00       1        0           0  ...    1     0       0       0\n",
              "1 2011-01-01 01:00:00       1        0           0  ...    1     1       0       0\n",
              "2 2011-01-01 02:00:00       1        0           0  ...    1     2       0       0\n",
              "3 2011-01-01 03:00:00       1        0           0  ...    1     3       0       0\n",
              "4 2011-01-01 04:00:00       1        0           0  ...    1     4       0       0\n",
              "\n",
              "[5 rows x 18 columns]"
            ]
          },
          "metadata": {
            "tags": []
          },
          "execution_count": 5
        }
      ]
    },
    {
      "cell_type": "code",
      "metadata": {
        "id": "L8lSMzLmTOCh",
        "colab": {
          "base_uri": "https://localhost:8080/",
          "height": 515
        },
        "outputId": "cbe4f6ac-9ebe-459a-f612-b06493b1fe35"
      },
      "source": [
        "import seaborn as sns\r\n",
        "figure,((ax1,ax2),(ax3,ax4))=plt.subplots(nrows=2,ncols=2)\r\n",
        "figure.set_size_inches(18,8)\r\n",
        "sns.barplot(data=train_data,x='year',y='count',ax=ax1)\r\n",
        "sns.barplot(data=train_data,x='month',y='count',ax=ax2)\r\n",
        "sns.barplot(data=train_data,x='day',y='count',ax=ax3)\r\n",
        "sns.barplot(data=train_data,x='hour',y='count',ax=ax4)\r\n",
        "#hour,year,month data."
      ],
      "execution_count": null,
      "outputs": [
        {
          "output_type": "execute_result",
          "data": {
            "text/plain": [
              "<matplotlib.axes._subplots.AxesSubplot at 0x7f9b8c1fe630>"
            ]
          },
          "metadata": {
            "tags": []
          },
          "execution_count": 6
        },
        {
          "output_type": "display_data",
          "data": {
            "image/png": "[encoded data removed]",
            "text/plain": [
              "<Figure size 1296x576 with 4 Axes>"
            ]
          },
          "metadata": {
            "tags": [],
            "needs_background": "light"
          }
        }
      ]
    },
    {
      "cell_type": "code",
      "metadata": {
        "id": "CPMcfoK2UXMW",
        "colab": {
          "base_uri": "https://localhost:8080/"
        },
        "outputId": "becf6592-1f99-484b-8c05-c655fb968f14"
      },
      "source": [
        "train_data['dayofweek']=train_data['datetime'].dt.dayofweek\r\n",
        "train_data['dayofweek'].value_counts()"
      ],
      "execution_count": null,
      "outputs": [
        {
          "output_type": "execute_result",
          "data": {
            "text/plain": [
              "5    1584\n",
              "6    1579\n",
              "3    1553\n",
              "2    1551\n",
              "0    1551\n",
              "1    1539\n",
              "4    1529\n",
              "Name: dayofweek, dtype: int64"
            ]
          },
          "metadata": {
            "tags": []
          },
          "execution_count": 7
        }
      ]
    },
    {
      "cell_type": "code",
      "metadata": {
        "id": "dLhU1YWbhruR"
      },
      "source": [
        "figure,(ax1,ax2,ax3,ax4) = plt.subplots(nrows=4)\r\n",
        "figure.set_size_inches(15,25)\r\n",
        "sns.pointplot(data=train_data,x='hour',y='count',hue='dayofweek',ax=ax1)\r\n",
        "sns.pointplot(data=train_data,x='hour',y='count',hue='workingday',ax=ax2)\r\n",
        "sns.pointplot(data=train_data,x='hour',y='count',hue='weather',ax=ax3)\r\n",
        "sns.pointplot(data=train_data,x='hour',y='count',hue='season',ax=ax4)\r\n",
        "#dayofweek(요일)\r\n",
        "#workingday(Bday or not)\r\n",
        "#season은 month로 치환 가능"
      ],
      "execution_count": null,
      "outputs": []
    },
    {
      "cell_type": "code",
      "metadata": {
        "id": "Xx4Gts5Ejnf2"
      },
      "source": [
        "#correlation Matrix heatmap\r\n",
        "corrMatt = train_data[['temp','atemp','casual','registered','humidity','windspeed','count']]\r\n",
        "corrMatt = corrMatt.corr()\r\n",
        "mask = np.array(corrMatt)\r\n",
        "mask[np.tril_indices_from(mask)]=False\r\n",
        "print(corrMatt)"
      ],
      "execution_count": null,
      "outputs": []
    },
    {
      "cell_type": "code",
      "metadata": {
        "id": "jzn0yQJkkcus"
      },
      "source": [
        "fig,ax=plt.subplots()\r\n",
        "fig.set_size_inches(20,20)\r\n",
        "sns.heatmap(corrMatt,mask=mask,vmax=.8,square=True,annot=True)\r\n",
        "#humidity는 상관관계 -0.32, windspeed는 0.1로 거의 상관 X\r\n",
        "#casual과 registered는 train에만 있음 => 사용 X"
      ],
      "execution_count": null,
      "outputs": []
    },
    {
      "cell_type": "code",
      "metadata": {
        "id": "OJs4-m6zlMTp",
        "colab": {
          "base_uri": "https://localhost:8080/",
          "height": 204
        },
        "outputId": "78dd791a-b40a-491b-ce11-6a5ddbf08062"
      },
      "source": [
        "def concatenate_ym(datetime):\r\n",
        "    return '{0}-{1}'.format(datetime.year,datetime.month)\r\n",
        "train_data['year-month'] = train_data['datetime'].apply(concatenate_ym)\r\n",
        "train_data[['datetime','year-month']].head()"
      ],
      "execution_count": null,
      "outputs": [
        {
          "output_type": "execute_result",
          "data": {
            "text/html": [
              "<div>\n",
              "<style scoped>\n",
              "    .dataframe tbody tr th:only-of-type {\n",
              "        vertical-align: middle;\n",
              "    }\n",
              "\n",
              "    .dataframe tbody tr th {\n",
              "        vertical-align: top;\n",
              "    }\n",
              "\n",
              "    .dataframe thead th {\n",
              "        text-align: right;\n",
              "    }\n",
              "</style>\n",
              "<table border=\"1\" class=\"dataframe\">\n",
              "  <thead>\n",
              "    <tr style=\"text-align: right;\">\n",
              "      <th></th>\n",
              "      <th>datetime</th>\n",
              "      <th>year-month</th>\n",
              "    </tr>\n",
              "  </thead>\n",
              "  <tbody>\n",
              "    <tr>\n",
              "      <th>0</th>\n",
              "      <td>2011-01-01 00:00:00</td>\n",
              "      <td>2011-1</td>\n",
              "    </tr>\n",
              "    <tr>\n",
              "      <th>1</th>\n",
              "      <td>2011-01-01 01:00:00</td>\n",
              "      <td>2011-1</td>\n",
              "    </tr>\n",
              "    <tr>\n",
              "      <th>2</th>\n",
              "      <td>2011-01-01 02:00:00</td>\n",
              "      <td>2011-1</td>\n",
              "    </tr>\n",
              "    <tr>\n",
              "      <th>3</th>\n",
              "      <td>2011-01-01 03:00:00</td>\n",
              "      <td>2011-1</td>\n",
              "    </tr>\n",
              "    <tr>\n",
              "      <th>4</th>\n",
              "      <td>2011-01-01 04:00:00</td>\n",
              "      <td>2011-1</td>\n",
              "    </tr>\n",
              "  </tbody>\n",
              "</table>\n",
              "</div>"
            ],
            "text/plain": [
              "             datetime year-month\n",
              "0 2011-01-01 00:00:00     2011-1\n",
              "1 2011-01-01 01:00:00     2011-1\n",
              "2 2011-01-01 02:00:00     2011-1\n",
              "3 2011-01-01 03:00:00     2011-1\n",
              "4 2011-01-01 04:00:00     2011-1"
            ]
          },
          "metadata": {
            "tags": []
          },
          "execution_count": 9
        }
      ]
    },
    {
      "cell_type": "code",
      "metadata": {
        "id": "m7fvyRWdmQJ5",
        "colab": {
          "base_uri": "https://localhost:8080/",
          "height": 204
        },
        "outputId": "b221bcbe-31c0-490c-a841-97696e750edb"
      },
      "source": [
        "#6sigma 이내의 데이터만 취급\r\n",
        "trainwoOutliers = train_data[np.abs(train_data['count']-train_data['count'].mean()) <= (3*train_data['count'].std())]\r\n",
        "\r\n",
        "trainwoOutliers.head()"
      ],
      "execution_count": null,
      "outputs": [
        {
          "output_type": "execute_result",
          "data": {
            "text/html": [
              "<div>\n",
              "<style scoped>\n",
              "    .dataframe tbody tr th:only-of-type {\n",
              "        vertical-align: middle;\n",
              "    }\n",
              "\n",
              "    .dataframe tbody tr th {\n",
              "        vertical-align: top;\n",
              "    }\n",
              "\n",
              "    .dataframe thead th {\n",
              "        text-align: right;\n",
              "    }\n",
              "</style>\n",
              "<table border=\"1\" class=\"dataframe\">\n",
              "  <thead>\n",
              "    <tr style=\"text-align: right;\">\n",
              "      <th></th>\n",
              "      <th>datetime</th>\n",
              "      <th>season</th>\n",
              "      <th>holiday</th>\n",
              "      <th>workingday</th>\n",
              "      <th>weather</th>\n",
              "      <th>temp</th>\n",
              "      <th>atemp</th>\n",
              "      <th>humidity</th>\n",
              "      <th>windspeed</th>\n",
              "      <th>casual</th>\n",
              "      <th>registered</th>\n",
              "      <th>count</th>\n",
              "      <th>year</th>\n",
              "      <th>month</th>\n",
              "      <th>day</th>\n",
              "      <th>hour</th>\n",
              "      <th>minute</th>\n",
              "      <th>second</th>\n",
              "      <th>dayofweek</th>\n",
              "      <th>year-month</th>\n",
              "    </tr>\n",
              "  </thead>\n",
              "  <tbody>\n",
              "    <tr>\n",
              "      <th>0</th>\n",
              "      <td>2011-01-01 00:00:00</td>\n",
              "      <td>1</td>\n",
              "      <td>0</td>\n",
              "      <td>0</td>\n",
              "      <td>1</td>\n",
              "      <td>9.84</td>\n",
              "      <td>14.395</td>\n",
              "      <td>81</td>\n",
              "      <td>0.0</td>\n",
              "      <td>3</td>\n",
              "      <td>13</td>\n",
              "      <td>16</td>\n",
              "      <td>2011</td>\n",
              "      <td>1</td>\n",
              "      <td>1</td>\n",
              "      <td>0</td>\n",
              "      <td>0</td>\n",
              "      <td>0</td>\n",
              "      <td>5</td>\n",
              "      <td>2011-1</td>\n",
              "    </tr>\n",
              "    <tr>\n",
              "      <th>1</th>\n",
              "      <td>2011-01-01 01:00:00</td>\n",
              "      <td>1</td>\n",
              "      <td>0</td>\n",
              "      <td>0</td>\n",
              "      <td>1</td>\n",
              "      <td>9.02</td>\n",
              "      <td>13.635</td>\n",
              "      <td>80</td>\n",
              "      <td>0.0</td>\n",
              "      <td>8</td>\n",
              "      <td>32</td>\n",
              "      <td>40</td>\n",
              "      <td>2011</td>\n",
              "      <td>1</td>\n",
              "      <td>1</td>\n",
              "      <td>1</td>\n",
              "      <td>0</td>\n",
              "      <td>0</td>\n",
              "      <td>5</td>\n",
              "      <td>2011-1</td>\n",
              "    </tr>\n",
              "    <tr>\n",
              "      <th>2</th>\n",
              "      <td>2011-01-01 02:00:00</td>\n",
              "      <td>1</td>\n",
              "      <td>0</td>\n",
              "      <td>0</td>\n",
              "      <td>1</td>\n",
              "      <td>9.02</td>\n",
              "      <td>13.635</td>\n",
              "      <td>80</td>\n",
              "      <td>0.0</td>\n",
              "      <td>5</td>\n",
              "      <td>27</td>\n",
              "      <td>32</td>\n",
              "      <td>2011</td>\n",
              "      <td>1</td>\n",
              "      <td>1</td>\n",
              "      <td>2</td>\n",
              "      <td>0</td>\n",
              "      <td>0</td>\n",
              "      <td>5</td>\n",
              "      <td>2011-1</td>\n",
              "    </tr>\n",
              "    <tr>\n",
              "      <th>3</th>\n",
              "      <td>2011-01-01 03:00:00</td>\n",
              "      <td>1</td>\n",
              "      <td>0</td>\n",
              "      <td>0</td>\n",
              "      <td>1</td>\n",
              "      <td>9.84</td>\n",
              "      <td>14.395</td>\n",
              "      <td>75</td>\n",
              "      <td>0.0</td>\n",
              "      <td>3</td>\n",
              "      <td>10</td>\n",
              "      <td>13</td>\n",
              "      <td>2011</td>\n",
              "      <td>1</td>\n",
              "      <td>1</td>\n",
              "      <td>3</td>\n",
              "      <td>0</td>\n",
              "      <td>0</td>\n",
              "      <td>5</td>\n",
              "      <td>2011-1</td>\n",
              "    </tr>\n",
              "    <tr>\n",
              "      <th>4</th>\n",
              "      <td>2011-01-01 04:00:00</td>\n",
              "      <td>1</td>\n",
              "      <td>0</td>\n",
              "      <td>0</td>\n",
              "      <td>1</td>\n",
              "      <td>9.84</td>\n",
              "      <td>14.395</td>\n",
              "      <td>75</td>\n",
              "      <td>0.0</td>\n",
              "      <td>0</td>\n",
              "      <td>1</td>\n",
              "      <td>1</td>\n",
              "      <td>2011</td>\n",
              "      <td>1</td>\n",
              "      <td>1</td>\n",
              "      <td>4</td>\n",
              "      <td>0</td>\n",
              "      <td>0</td>\n",
              "      <td>5</td>\n",
              "      <td>2011-1</td>\n",
              "    </tr>\n",
              "  </tbody>\n",
              "</table>\n",
              "</div>"
            ],
            "text/plain": [
              "             datetime  season  holiday  ...  second  dayofweek  year-month\n",
              "0 2011-01-01 00:00:00       1        0  ...       0          5      2011-1\n",
              "1 2011-01-01 01:00:00       1        0  ...       0          5      2011-1\n",
              "2 2011-01-01 02:00:00       1        0  ...       0          5      2011-1\n",
              "3 2011-01-01 03:00:00       1        0  ...       0          5      2011-1\n",
              "4 2011-01-01 04:00:00       1        0  ...       0          5      2011-1\n",
              "\n",
              "[5 rows x 20 columns]"
            ]
          },
          "metadata": {
            "tags": []
          },
          "execution_count": 11
        }
      ]
    },
    {
      "cell_type": "code",
      "metadata": {
        "id": "ibfdXWK3n_hE",
        "colab": {
          "base_uri": "https://localhost:8080/",
          "height": 204
        },
        "outputId": "3d3976fc-1e9a-4e7b-8e9d-663c3afe268c"
      },
      "source": [
        "x_train = trainwoOutliers[['season','workingday','weather','temp','atemp','humidity','windspeed','dayofweek']]\r\n",
        "test_data['dayofweek'] = test_data['datetime'].dt.dayofweek\r\n",
        "x_test = test_data[['season','holiday','weather','temp','atemp','humidity','windspeed','dayofweek']]\r\n",
        "y_train = trainwoOutliers['count']\r\n",
        "x_train.head()\r\n"
      ],
      "execution_count": null,
      "outputs": [
        {
          "output_type": "execute_result",
          "data": {
            "text/html": [
              "<div>\n",
              "<style scoped>\n",
              "    .dataframe tbody tr th:only-of-type {\n",
              "        vertical-align: middle;\n",
              "    }\n",
              "\n",
              "    .dataframe tbody tr th {\n",
              "        vertical-align: top;\n",
              "    }\n",
              "\n",
              "    .dataframe thead th {\n",
              "        text-align: right;\n",
              "    }\n",
              "</style>\n",
              "<table border=\"1\" class=\"dataframe\">\n",
              "  <thead>\n",
              "    <tr style=\"text-align: right;\">\n",
              "      <th></th>\n",
              "      <th>season</th>\n",
              "      <th>workingday</th>\n",
              "      <th>weather</th>\n",
              "      <th>temp</th>\n",
              "      <th>atemp</th>\n",
              "      <th>humidity</th>\n",
              "      <th>windspeed</th>\n",
              "      <th>dayofweek</th>\n",
              "    </tr>\n",
              "  </thead>\n",
              "  <tbody>\n",
              "    <tr>\n",
              "      <th>0</th>\n",
              "      <td>1</td>\n",
              "      <td>0</td>\n",
              "      <td>1</td>\n",
              "      <td>9.84</td>\n",
              "      <td>14.395</td>\n",
              "      <td>81</td>\n",
              "      <td>0.0</td>\n",
              "      <td>5</td>\n",
              "    </tr>\n",
              "    <tr>\n",
              "      <th>1</th>\n",
              "      <td>1</td>\n",
              "      <td>0</td>\n",
              "      <td>1</td>\n",
              "      <td>9.02</td>\n",
              "      <td>13.635</td>\n",
              "      <td>80</td>\n",
              "      <td>0.0</td>\n",
              "      <td>5</td>\n",
              "    </tr>\n",
              "    <tr>\n",
              "      <th>2</th>\n",
              "      <td>1</td>\n",
              "      <td>0</td>\n",
              "      <td>1</td>\n",
              "      <td>9.02</td>\n",
              "      <td>13.635</td>\n",
              "      <td>80</td>\n",
              "      <td>0.0</td>\n",
              "      <td>5</td>\n",
              "    </tr>\n",
              "    <tr>\n",
              "      <th>3</th>\n",
              "      <td>1</td>\n",
              "      <td>0</td>\n",
              "      <td>1</td>\n",
              "      <td>9.84</td>\n",
              "      <td>14.395</td>\n",
              "      <td>75</td>\n",
              "      <td>0.0</td>\n",
              "      <td>5</td>\n",
              "    </tr>\n",
              "    <tr>\n",
              "      <th>4</th>\n",
              "      <td>1</td>\n",
              "      <td>0</td>\n",
              "      <td>1</td>\n",
              "      <td>9.84</td>\n",
              "      <td>14.395</td>\n",
              "      <td>75</td>\n",
              "      <td>0.0</td>\n",
              "      <td>5</td>\n",
              "    </tr>\n",
              "  </tbody>\n",
              "</table>\n",
              "</div>"
            ],
            "text/plain": [
              "   season  workingday  weather  temp   atemp  humidity  windspeed  dayofweek\n",
              "0       1           0        1  9.84  14.395        81        0.0          5\n",
              "1       1           0        1  9.02  13.635        80        0.0          5\n",
              "2       1           0        1  9.02  13.635        80        0.0          5\n",
              "3       1           0        1  9.84  14.395        75        0.0          5\n",
              "4       1           0        1  9.84  14.395        75        0.0          5"
            ]
          },
          "metadata": {
            "tags": []
          },
          "execution_count": 12
        }
      ]
    },
    {
      "cell_type": "code",
      "metadata": {
        "id": "KHeYmCbnsfjM"
      },
      "source": [
        "print(refined_train_data.shape)\r\n",
        "print(refined_train_label.shape)"
      ],
      "execution_count": null,
      "outputs": []
    },
    {
      "cell_type": "code",
      "metadata": {
        "colab": {
          "base_uri": "https://localhost:8080/"
        },
        "id": "jBbGu7pFO6xJ",
        "outputId": "2e153ed9-bb14-4ffc-8173-f0e4117c03fb"
      },
      "source": [
        "from sklearn.ensemble import RandomForestClassifier\r\n",
        "\r\n",
        "clf = RandomForestClassifier()\r\n",
        "clf.fit(x_train,y_train)"
      ],
      "execution_count": null,
      "outputs": [
        {
          "output_type": "execute_result",
          "data": {
            "text/plain": [
              "RandomForestClassifier(bootstrap=True, ccp_alpha=0.0, class_weight=None,\n",
              "                       criterion='gini', max_depth=None, max_features='auto',\n",
              "                       max_leaf_nodes=None, max_samples=None,\n",
              "                       min_impurity_decrease=0.0, min_impurity_split=None,\n",
              "                       min_samples_leaf=1, min_samples_split=2,\n",
              "                       min_weight_fraction_leaf=0.0, n_estimators=100,\n",
              "                       n_jobs=None, oob_score=False, random_state=None,\n",
              "                       verbose=0, warm_start=False)"
            ]
          },
          "metadata": {
            "tags": []
          },
          "execution_count": 19
        }
      ]
    },
    {
      "cell_type": "code",
      "metadata": {
        "id": "CUm0pZTBPkqV"
      },
      "source": [
        "pred = clf.predict(x_test)"
      ],
      "execution_count": null,
      "outputs": []
    },
    {
      "cell_type": "code",
      "metadata": {
        "id": "ZEDPO4756Km7"
      },
      "source": [
        "from sklearn.metrics import make_scorer\r\n",
        "\r\n",
        "def rmsle(predict,actual):\r\n",
        "    predict_val = np.array(predict)\r\n",
        "    actual_val = np.array(actual)\r\n",
        "\r\n",
        "    log_predict = np.log(predict_val+1)\r\n",
        "    log_actual = np.log(actual_val+1)\r\n",
        "\r\n",
        "    diff = log_predict-log_actual\r\n",
        "\r\n",
        "    diff = np.square(diff)\r\n",
        "\r\n",
        "    mean_diff = diff.mean()\r\n",
        "\r\n",
        "    score = np.sqrt(mean_diff)\r\n",
        "\r\n",
        "    return score\r\n",
        "rmsle_scorer = make_scorer(rmsle)"
      ],
      "execution_count": null,
      "outputs": []
    },
    {
      "cell_type": "code",
      "metadata": {
        "colab": {
          "base_uri": "https://localhost:8080/"
        },
        "id": "n3pt93BE46S2",
        "outputId": "eac7dd20-88ea-4fed-f724-481ca5d7bca9"
      },
      "source": [
        "from sklearn.ensemble import RandomForestRegressor\r\n",
        "from sklearn.model_selection import cross_val_score,KFold\r\n",
        "\r\n",
        "k_fold = KFold(n_splits=10,shuffle=True,random_state=0)\r\n",
        "\r\n",
        "max_depth_list = []\r\n",
        "model = RandomForestRegressor(n_estimators = 100,n_jobs=1,random_state=0)\r\n",
        "\r\n",
        "score = cross_val_score(model,x_train,y_train,cv=k_fold,scoring=rmsle_scorer)\r\n",
        "score = score.mean()\r\n",
        "model.fit(x_train,y_train)\r\n",
        "pred = model.predict(x_test)\r\n",
        "\r\n",
        "print(pred.shape)"
      ],
      "execution_count": null,
      "outputs": [
        {
          "output_type": "stream",
          "text": [
            "(6493,)\n"
          ],
          "name": "stdout"
        }
      ]
    },
    {
      "cell_type": "code",
      "metadata": {
        "colab": {
          "base_uri": "https://localhost:8080/"
        },
        "id": "Z9cpA_LX8OY2",
        "outputId": "9d5fa8c9-9d90-4609-ed5d-1e8b7a071f2e"
      },
      "source": [
        "print(score)"
      ],
      "execution_count": null,
      "outputs": [
        {
          "output_type": "stream",
          "text": [
            "1.2126211825636701\n"
          ],
          "name": "stdout"
        }
      ]
    },
    {
      "cell_type": "code",
      "metadata": {
        "colab": {
          "base_uri": "https://localhost:8080/",
          "height": 713
        },
        "id": "7jX1NBd47yIf",
        "outputId": "7195504c-912a-4d8e-f80d-1474c23a20a1"
      },
      "source": [
        "fig,(ax1,ax2) = plt.subplots(ncols=2)\r\n",
        "fig.set_size_inches(10,10)\r\n",
        "sns.distplot(y_train,ax = ax1,bins=50)\r\n",
        "sns.distplot(pred,bins=50,ax=ax2)"
      ],
      "execution_count": null,
      "outputs": [
        {
          "output_type": "stream",
          "text": [
            "/usr/local/lib/python3.6/dist-packages/seaborn/distributions.py:2557: FutureWarning: `distplot` is a deprecated function and will be removed in a future version. Please adapt your code to use either `displot` (a figure-level function with similar flexibility) or `histplot` (an axes-level function for histograms).\n",
            "  warnings.warn(msg, FutureWarning)\n",
            "/usr/local/lib/python3.6/dist-packages/seaborn/distributions.py:2557: FutureWarning: `distplot` is a deprecated function and will be removed in a future version. Please adapt your code to use either `displot` (a figure-level function with similar flexibility) or `histplot` (an axes-level function for histograms).\n",
            "  warnings.warn(msg, FutureWarning)\n"
          ],
          "name": "stderr"
        },
        {
          "output_type": "execute_result",
          "data": {
            "text/plain": [
              "<matplotlib.axes._subplots.AxesSubplot at 0x7ff97455bb70>"
            ]
          },
          "metadata": {
            "tags": []
          },
          "execution_count": 72
        },
        {
          "output_type": "display_data",
          "data": {
            "image/png": "[encoded data removed]",
            "text/plain": [
              "<Figure size 720x720 with 2 Axes>"
            ]
          },
          "metadata": {
            "tags": [],
            "needs_background": "light"
          }
        }
      ]
    },
    {
      "cell_type": "code",
      "metadata": {
        "colab": {
          "base_uri": "https://localhost:8080/"
        },
        "id": "Ar37zrtsqNoH",
        "outputId": "1361bfc2-0af6-41fe-a7a4-ca681dbb737c"
      },
      "source": [
        "model = Sequential()\r\n",
        "model.add(Dense(64,input_shape=(x_train.shape[1],),activation='relu'))\r\n",
        "model.add(Dense(256,activation='relu'))\r\n",
        "model.add(Dense(256,activation='relu'))\r\n",
        "model.add(Dense(1))\r\n",
        "\r\n",
        "model.compile(optimizer=Adam(learning_rate=0.01),loss='mse',metrics=['mae'])\r\n",
        "model.summary()"
      ],
      "execution_count": null,
      "outputs": [
        {
          "output_type": "stream",
          "text": [
            "Model: \"sequential_2\"\n",
            "_________________________________________________________________\n",
            "Layer (type)                 Output Shape              Param #   \n",
            "=================================================================\n",
            "dense_8 (Dense)              (None, 64)                576       \n",
            "_________________________________________________________________\n",
            "dense_9 (Dense)              (None, 256)               16640     \n",
            "_________________________________________________________________\n",
            "dense_10 (Dense)             (None, 256)               65792     \n",
            "_________________________________________________________________\n",
            "dense_11 (Dense)             (None, 1)                 257       \n",
            "=================================================================\n",
            "Total params: 83,265\n",
            "Trainable params: 83,265\n",
            "Non-trainable params: 0\n",
            "_________________________________________________________________\n"
          ],
          "name": "stdout"
        }
      ]
    },
    {
      "cell_type": "code",
      "metadata": {
        "colab": {
          "base_uri": "https://localhost:8080/"
        },
        "id": "MFUix0VZsPJx",
        "outputId": "825f23aa-ecdf-4993-af59-17b515c6b640"
      },
      "source": [
        "history = model.fit(x_train,y_train,epochs=100)"
      ],
      "execution_count": null,
      "outputs": [
        {
          "output_type": "stream",
          "text": [
            "Epoch 1/100\n",
            "336/336 [==============================] - 1s 2ms/step - loss: 25079.1281 - mae: 118.5320\n",
            "Epoch 2/100\n",
            "336/336 [==============================] - 1s 2ms/step - loss: 20522.7715 - mae: 108.0497\n",
            "Epoch 3/100\n",
            "336/336 [==============================] - 1s 2ms/step - loss: 21349.1566 - mae: 110.8767\n",
            "Epoch 4/100\n",
            "336/336 [==============================] - 1s 2ms/step - loss: 20776.9639 - mae: 108.5419\n",
            "Epoch 5/100\n",
            "336/336 [==============================] - 1s 2ms/step - loss: 20643.8602 - mae: 108.4714\n",
            "Epoch 6/100\n",
            "336/336 [==============================] - 1s 2ms/step - loss: 20858.8131 - mae: 109.5471\n",
            "Epoch 7/100\n",
            "336/336 [==============================] - 1s 2ms/step - loss: 19312.4486 - mae: 105.0542\n",
            "Epoch 8/100\n",
            "336/336 [==============================] - 1s 2ms/step - loss: 19935.9569 - mae: 106.2153\n",
            "Epoch 9/100\n",
            "336/336 [==============================] - 1s 2ms/step - loss: 19981.6681 - mae: 106.6984\n",
            "Epoch 10/100\n",
            "336/336 [==============================] - 1s 2ms/step - loss: 20101.6330 - mae: 106.8140\n",
            "Epoch 11/100\n",
            "336/336 [==============================] - 1s 2ms/step - loss: 20676.5298 - mae: 107.9797\n",
            "Epoch 12/100\n",
            "336/336 [==============================] - 1s 2ms/step - loss: 20159.9510 - mae: 106.4609\n",
            "Epoch 13/100\n",
            "336/336 [==============================] - 1s 2ms/step - loss: 20923.5334 - mae: 108.9547\n",
            "Epoch 14/100\n",
            "336/336 [==============================] - 1s 2ms/step - loss: 19553.0271 - mae: 105.9183\n",
            "Epoch 15/100\n",
            "336/336 [==============================] - 1s 2ms/step - loss: 19584.1609 - mae: 106.5246\n",
            "Epoch 16/100\n",
            "336/336 [==============================] - 1s 2ms/step - loss: 19968.3406 - mae: 106.7509\n",
            "Epoch 17/100\n",
            "336/336 [==============================] - 1s 2ms/step - loss: 19814.5124 - mae: 106.3677\n",
            "Epoch 18/100\n",
            "336/336 [==============================] - 1s 2ms/step - loss: 20383.3358 - mae: 107.8921\n",
            "Epoch 19/100\n",
            "336/336 [==============================] - 1s 2ms/step - loss: 19632.5850 - mae: 105.4186\n",
            "Epoch 20/100\n",
            "336/336 [==============================] - 1s 2ms/step - loss: 19673.0927 - mae: 106.3179\n",
            "Epoch 21/100\n",
            "336/336 [==============================] - 1s 2ms/step - loss: 19743.5062 - mae: 106.1365\n",
            "Epoch 22/100\n",
            "336/336 [==============================] - 1s 2ms/step - loss: 19101.7958 - mae: 104.2487\n",
            "Epoch 23/100\n",
            "336/336 [==============================] - 1s 2ms/step - loss: 19659.9509 - mae: 105.8749\n",
            "Epoch 24/100\n",
            "336/336 [==============================] - 1s 2ms/step - loss: 19769.5024 - mae: 106.2861\n",
            "Epoch 25/100\n",
            "336/336 [==============================] - 1s 2ms/step - loss: 19106.6656 - mae: 104.8596\n",
            "Epoch 26/100\n",
            "336/336 [==============================] - 1s 2ms/step - loss: 19382.3036 - mae: 105.3162\n",
            "Epoch 27/100\n",
            "336/336 [==============================] - 1s 2ms/step - loss: 20114.4101 - mae: 106.5349\n",
            "Epoch 28/100\n",
            "336/336 [==============================] - 1s 2ms/step - loss: 19343.0389 - mae: 104.3983\n",
            "Epoch 29/100\n",
            "336/336 [==============================] - 1s 2ms/step - loss: 19531.8958 - mae: 105.0949\n",
            "Epoch 30/100\n",
            "336/336 [==============================] - 1s 2ms/step - loss: 18811.9978 - mae: 104.0500\n",
            "Epoch 31/100\n",
            "336/336 [==============================] - 1s 2ms/step - loss: 19331.2321 - mae: 105.3797\n",
            "Epoch 32/100\n",
            "336/336 [==============================] - 1s 2ms/step - loss: 18949.9146 - mae: 103.7676\n",
            "Epoch 33/100\n",
            "336/336 [==============================] - 1s 2ms/step - loss: 19674.0559 - mae: 105.9908\n",
            "Epoch 34/100\n",
            "336/336 [==============================] - 1s 2ms/step - loss: 19341.0408 - mae: 105.2506\n",
            "Epoch 35/100\n",
            "336/336 [==============================] - 1s 2ms/step - loss: 18974.7417 - mae: 103.5639\n",
            "Epoch 36/100\n",
            "336/336 [==============================] - 1s 2ms/step - loss: 19700.2390 - mae: 105.8833\n",
            "Epoch 37/100\n",
            "336/336 [==============================] - 1s 2ms/step - loss: 19096.5258 - mae: 103.7595\n",
            "Epoch 38/100\n",
            "336/336 [==============================] - 1s 2ms/step - loss: 19317.3894 - mae: 104.8889\n",
            "Epoch 39/100\n",
            "336/336 [==============================] - 1s 2ms/step - loss: 19384.2495 - mae: 105.2100\n",
            "Epoch 40/100\n",
            "336/336 [==============================] - 1s 2ms/step - loss: 18810.4693 - mae: 103.4480\n",
            "Epoch 41/100\n",
            "336/336 [==============================] - 1s 2ms/step - loss: 19564.3184 - mae: 105.8515\n",
            "Epoch 42/100\n",
            "336/336 [==============================] - 1s 2ms/step - loss: 19261.4435 - mae: 105.4823\n",
            "Epoch 43/100\n",
            "336/336 [==============================] - 1s 2ms/step - loss: 19524.4690 - mae: 105.3542\n",
            "Epoch 44/100\n",
            "336/336 [==============================] - 1s 2ms/step - loss: 19472.6199 - mae: 105.4151\n",
            "Epoch 45/100\n",
            "336/336 [==============================] - 1s 2ms/step - loss: 19077.8519 - mae: 104.4331\n",
            "Epoch 46/100\n",
            "336/336 [==============================] - 1s 2ms/step - loss: 18394.9205 - mae: 102.1155\n",
            "Epoch 47/100\n",
            "336/336 [==============================] - 1s 2ms/step - loss: 19350.0594 - mae: 105.6226\n",
            "Epoch 48/100\n",
            "336/336 [==============================] - 1s 2ms/step - loss: 18867.4960 - mae: 103.7726\n",
            "Epoch 49/100\n",
            "336/336 [==============================] - 1s 2ms/step - loss: 18956.6833 - mae: 103.6636\n",
            "Epoch 50/100\n",
            "336/336 [==============================] - 1s 2ms/step - loss: 18808.9810 - mae: 103.4720\n",
            "Epoch 51/100\n",
            "336/336 [==============================] - 1s 2ms/step - loss: 18535.7818 - mae: 103.0920\n",
            "Epoch 52/100\n",
            "336/336 [==============================] - 1s 2ms/step - loss: 18959.9129 - mae: 104.4651\n",
            "Epoch 53/100\n",
            "336/336 [==============================] - 1s 2ms/step - loss: 18101.7230 - mae: 101.0208\n",
            "Epoch 54/100\n",
            "336/336 [==============================] - 1s 2ms/step - loss: 18699.5169 - mae: 103.2793\n",
            "Epoch 55/100\n",
            "336/336 [==============================] - 1s 2ms/step - loss: 19390.7030 - mae: 105.3962\n",
            "Epoch 56/100\n",
            "336/336 [==============================] - 1s 2ms/step - loss: 18554.4897 - mae: 102.8756\n",
            "Epoch 57/100\n",
            "336/336 [==============================] - 1s 2ms/step - loss: 19100.5054 - mae: 103.8207\n",
            "Epoch 58/100\n",
            "336/336 [==============================] - 1s 2ms/step - loss: 19533.1784 - mae: 105.1204\n",
            "Epoch 59/100\n",
            "336/336 [==============================] - 1s 2ms/step - loss: 18971.6335 - mae: 103.5498\n",
            "Epoch 60/100\n",
            "336/336 [==============================] - 1s 2ms/step - loss: 19216.5404 - mae: 104.8894\n",
            "Epoch 61/100\n",
            "336/336 [==============================] - 1s 2ms/step - loss: 19296.7521 - mae: 104.5914\n",
            "Epoch 62/100\n",
            "336/336 [==============================] - 1s 2ms/step - loss: 19230.2201 - mae: 104.8205\n",
            "Epoch 63/100\n",
            "336/336 [==============================] - 1s 2ms/step - loss: 19316.9949 - mae: 105.2437\n",
            "Epoch 64/100\n",
            "336/336 [==============================] - 1s 2ms/step - loss: 18986.1232 - mae: 104.4934\n",
            "Epoch 65/100\n",
            "336/336 [==============================] - 1s 2ms/step - loss: 19053.6753 - mae: 104.0237\n",
            "Epoch 66/100\n",
            "336/336 [==============================] - 1s 2ms/step - loss: 18538.1894 - mae: 103.1186\n",
            "Epoch 67/100\n",
            "336/336 [==============================] - 1s 2ms/step - loss: 19143.4896 - mae: 104.6622\n",
            "Epoch 68/100\n",
            "336/336 [==============================] - 1s 2ms/step - loss: 18870.5088 - mae: 103.8278\n",
            "Epoch 69/100\n",
            "336/336 [==============================] - 1s 2ms/step - loss: 18909.3828 - mae: 103.9811\n",
            "Epoch 70/100\n",
            "336/336 [==============================] - 1s 2ms/step - loss: 18925.4602 - mae: 103.7361\n",
            "Epoch 71/100\n",
            "336/336 [==============================] - 1s 2ms/step - loss: 18805.9282 - mae: 103.0664\n",
            "Epoch 72/100\n",
            "336/336 [==============================] - 1s 2ms/step - loss: 18894.8589 - mae: 103.3645\n",
            "Epoch 73/100\n",
            "336/336 [==============================] - 1s 2ms/step - loss: 18495.9528 - mae: 102.0167\n",
            "Epoch 74/100\n",
            "336/336 [==============================] - 1s 2ms/step - loss: 18544.2371 - mae: 102.9752\n",
            "Epoch 75/100\n",
            "336/336 [==============================] - 1s 2ms/step - loss: 18711.8668 - mae: 103.6570\n",
            "Epoch 76/100\n",
            "336/336 [==============================] - 1s 2ms/step - loss: 19108.0792 - mae: 104.1216\n",
            "Epoch 77/100\n",
            "336/336 [==============================] - 1s 2ms/step - loss: 18969.8418 - mae: 103.8455\n",
            "Epoch 78/100\n",
            "336/336 [==============================] - 1s 2ms/step - loss: 19064.1965 - mae: 103.9764\n",
            "Epoch 79/100\n",
            "336/336 [==============================] - 1s 2ms/step - loss: 18563.8978 - mae: 102.9909\n",
            "Epoch 80/100\n",
            "336/336 [==============================] - 1s 2ms/step - loss: 18455.8904 - mae: 102.8011\n",
            "Epoch 81/100\n",
            "336/336 [==============================] - 1s 2ms/step - loss: 19172.4968 - mae: 104.8481\n",
            "Epoch 82/100\n",
            "336/336 [==============================] - 1s 2ms/step - loss: 18229.0057 - mae: 102.0217\n",
            "Epoch 83/100\n",
            "336/336 [==============================] - 1s 2ms/step - loss: 18968.0955 - mae: 103.8031\n",
            "Epoch 84/100\n",
            "336/336 [==============================] - 1s 2ms/step - loss: 18437.9057 - mae: 102.2275\n",
            "Epoch 85/100\n",
            "336/336 [==============================] - 1s 2ms/step - loss: 19047.8370 - mae: 104.3097\n",
            "Epoch 86/100\n",
            "336/336 [==============================] - 1s 2ms/step - loss: 18794.1022 - mae: 103.1636\n",
            "Epoch 87/100\n",
            "336/336 [==============================] - 1s 2ms/step - loss: 18113.7465 - mae: 101.4489\n",
            "Epoch 88/100\n",
            "336/336 [==============================] - 1s 2ms/step - loss: 18607.4530 - mae: 103.2439\n",
            "Epoch 89/100\n",
            "336/336 [==============================] - 1s 2ms/step - loss: 18903.6482 - mae: 103.5655\n",
            "Epoch 90/100\n",
            "336/336 [==============================] - 1s 2ms/step - loss: 19188.2578 - mae: 104.4775\n",
            "Epoch 91/100\n",
            "336/336 [==============================] - 1s 2ms/step - loss: 18895.0086 - mae: 103.5421\n",
            "Epoch 92/100\n",
            "336/336 [==============================] - 1s 2ms/step - loss: 18484.7110 - mae: 101.9458\n",
            "Epoch 93/100\n",
            "336/336 [==============================] - 1s 2ms/step - loss: 19422.7757 - mae: 104.6941\n",
            "Epoch 94/100\n",
            "336/336 [==============================] - 1s 2ms/step - loss: 18372.0067 - mae: 101.7682\n",
            "Epoch 95/100\n",
            "336/336 [==============================] - 1s 2ms/step - loss: 19149.7902 - mae: 104.3110\n",
            "Epoch 96/100\n",
            "336/336 [==============================] - 1s 2ms/step - loss: 18437.2037 - mae: 102.3512\n",
            "Epoch 97/100\n",
            "336/336 [==============================] - 1s 2ms/step - loss: 18786.9130 - mae: 103.6198\n",
            "Epoch 98/100\n",
            "336/336 [==============================] - 1s 2ms/step - loss: 18902.9632 - mae: 104.0891\n",
            "Epoch 99/100\n",
            "336/336 [==============================] - 1s 2ms/step - loss: 19281.7139 - mae: 104.6762\n",
            "Epoch 100/100\n",
            "336/336 [==============================] - 1s 2ms/step - loss: 18747.1380 - mae: 103.3806\n"
          ],
          "name": "stdout"
        }
      ]
    },
    {
      "cell_type": "code",
      "metadata": {
        "colab": {
          "base_uri": "https://localhost:8080/"
        },
        "id": "h5E2JyAkxa0U",
        "outputId": "fa7299e7-6562-43fd-87fa-a41770933370"
      },
      "source": [
        "prediction = model.predict(x_test)\r\n",
        "for i in range(100):\r\n",
        "    print(prediction[i])"
      ],
      "execution_count": null,
      "outputs": [
        {
          "output_type": "stream",
          "text": [
            "[75.2634]\n",
            "[83.58885]\n",
            "[83.58885]\n",
            "[80.31464]\n",
            "[80.31464]\n",
            "[68.39136]\n",
            "[64.50789]\n",
            "[67.84427]\n",
            "[65.979645]\n",
            "[80.0486]\n",
            "[92.35042]\n",
            "[105.41586]\n",
            "[107.937256]\n",
            "[107.09506]\n",
            "[113.10428]\n",
            "[123.064896]\n",
            "[107.26953]\n",
            "[106.956726]\n",
            "[82.08893]\n",
            "[76.80681]\n",
            "[65.34605]\n",
            "[57.55607]\n",
            "[57.55607]\n",
            "[57.55607]\n",
            "[57.55607]\n",
            "[57.55607]\n",
            "[59.36203]\n",
            "[57.55607]\n",
            "[74.7926]\n",
            "[57.55607]\n",
            "[70.28703]\n",
            "[57.55607]\n",
            "[57.55607]\n",
            "[57.55607]\n",
            "[57.55607]\n",
            "[57.55607]\n",
            "[99.22774]\n",
            "[96.57503]\n",
            "[94.556046]\n",
            "[80.32779]\n",
            "[85.06702]\n",
            "[67.64569]\n",
            "[68.89903]\n",
            "[57.55607]\n",
            "[57.55607]\n",
            "[47.44134]\n",
            "[47.12221]\n",
            "[46.724487]\n",
            "[45.99141]\n",
            "[46.73164]\n",
            "[46.89178]\n",
            "[46.798733]\n",
            "[46.003555]\n",
            "[46.792454]\n",
            "[46.520267]\n",
            "[46.510338]\n",
            "[46.676758]\n",
            "[46.91219]\n",
            "[47.067825]\n",
            "[45.427143]\n",
            "[35.668518]\n",
            "[66.53761]\n",
            "[31.330727]\n",
            "[81.514465]\n",
            "[40.435745]\n",
            "[47.40666]\n",
            "[46.618298]\n",
            "[45.58138]\n",
            "[45.521378]\n",
            "[58.948444]\n",
            "[46.367714]\n",
            "[46.445004]\n",
            "[46.445004]\n",
            "[45.94759]\n",
            "[45.94759]\n",
            "[46.66003]\n",
            "[46.66003]\n",
            "[45.2685]\n",
            "[45.367493]\n",
            "[45.262646]\n",
            "[58.444725]\n",
            "[48.85989]\n",
            "[57.55607]\n",
            "[57.55607]\n",
            "[87.989685]\n",
            "[87.989685]\n",
            "[83.45825]\n",
            "[69.74335]\n",
            "[65.63043]\n",
            "[69.35083]\n",
            "[57.55607]\n",
            "[57.67012]\n",
            "[46.562115]\n",
            "[46.505344]\n",
            "[57.55607]\n",
            "[57.55607]\n",
            "[57.55607]\n",
            "[57.55607]\n",
            "[57.55607]\n",
            "[66.9974]\n"
          ],
          "name": "stdout"
        }
      ]
    }
  ]
}