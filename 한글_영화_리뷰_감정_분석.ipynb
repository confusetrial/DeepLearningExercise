{
  "nbformat": 4,
  "nbformat_minor": 0,
  "metadata": {
    "accelerator": "GPU",
    "colab": {
      "name": "한글 영화 리뷰 감정 분석.ipynb",
      "provenance": [],
      "collapsed_sections": [],
      "authorship_tag": "ABX9TyNns2KCDJxl0/n84Hn3OhFe",
      "include_colab_link": true
    },
    "kernelspec": {
      "display_name": "Python 3",
      "name": "python3"
    }
  },
  "cells": [
    {
      "cell_type": "markdown",
      "metadata": {
        "id": "view-in-github",
        "colab_type": "text"
      },
      "source": [
        "<a href=\"https://colab.research.google.com/github/confusetrial/DeepLearningExercise/blob/main/%ED%95%9C%EA%B8%80_%EC%98%81%ED%99%94_%EB%A6%AC%EB%B7%B0_%EA%B0%90%EC%A0%95_%EB%B6%84%EC%84%9D.ipynb\" target=\"_parent\"><img src=\"https://colab.research.google.com/assets/colab-badge.svg\" alt=\"Open In Colab\"/></a>"
      ]
    },
    {
      "cell_type": "code",
      "metadata": {
        "colab": {
          "base_uri": "https://localhost:8080/"
        },
        "id": "7wrOolRiMmKg",
        "outputId": "4137162a-7bbd-40b5-9dd7-08aa30950bf0"
      },
      "source": [
        "!pip install konlpy\r\n",
        "import numpy as np\r\n",
        "import pandas as pd\r\n",
        "import os\r\n",
        "import matplotlib.pyplot as plt\r\n",
        "import seaborn as sns\r\n",
        "from wordcloud import WordCloud\r\n",
        "import re\r\n",
        "import json\r\n",
        "from konlpy.tag import Okt\r\n",
        "from tensorflow.keras.preprocessing.sequence import pad_sequences\r\n",
        "from tensorflow.keras.preprocessing.text import Tokenizer\r\n",
        "%matplotlib inline\r\n",
        "\r\n",
        "from google.colab import drive\r\n",
        "drive.mount('/content/drive')\r\n",
        "DATA_Path = '/content/drive/My Drive/Colab Notebooks/dataset/Korean movies/'"
      ],
      "execution_count": null,
      "outputs": [
        {
          "output_type": "stream",
          "text": [
            "Collecting konlpy\n",
            "\u001b[?25l  Downloading https://files.pythonhosted.org/packages/85/0e/f385566fec837c0b83f216b2da65db9997b35dd675e107752005b7d392b1/konlpy-0.5.2-py2.py3-none-any.whl (19.4MB)\n",
            "\u001b[K     |████████████████████████████████| 19.4MB 53.1MB/s \n",
            "\u001b[?25hCollecting tweepy>=3.7.0\n",
            "  Downloading https://files.pythonhosted.org/packages/67/c3/6bed87f3b1e5ed2f34bd58bf7978e308c86e255193916be76e5a5ce5dfca/tweepy-3.10.0-py2.py3-none-any.whl\n",
            "Requirement already satisfied: numpy>=1.6 in /usr/local/lib/python3.6/dist-packages (from konlpy) (1.19.5)\n",
            "Collecting colorama\n",
            "  Downloading https://files.pythonhosted.org/packages/44/98/5b86278fbbf250d239ae0ecb724f8572af1c91f4a11edf4d36a206189440/colorama-0.4.4-py2.py3-none-any.whl\n",
            "Requirement already satisfied: lxml>=4.1.0 in /usr/local/lib/python3.6/dist-packages (from konlpy) (4.2.6)\n",
            "Collecting beautifulsoup4==4.6.0\n",
            "\u001b[?25l  Downloading https://files.pythonhosted.org/packages/9e/d4/10f46e5cfac773e22707237bfcd51bbffeaf0a576b0a847ec7ab15bd7ace/beautifulsoup4-4.6.0-py3-none-any.whl (86kB)\n",
            "\u001b[K     |████████████████████████████████| 92kB 5.5MB/s \n",
            "\u001b[?25hCollecting JPype1>=0.7.0\n",
            "\u001b[?25l  Downloading https://files.pythonhosted.org/packages/de/af/93f92b38ec1ff3091cd38982ed19cea2800fefb609b5801c41fc43c0781e/JPype1-1.2.1-cp36-cp36m-manylinux2010_x86_64.whl (457kB)\n",
            "\u001b[K     |████████████████████████████████| 460kB 30.4MB/s \n",
            "\u001b[?25hRequirement already satisfied: six>=1.10.0 in /usr/local/lib/python3.6/dist-packages (from tweepy>=3.7.0->konlpy) (1.15.0)\n",
            "Requirement already satisfied: requests[socks]>=2.11.1 in /usr/local/lib/python3.6/dist-packages (from tweepy>=3.7.0->konlpy) (2.23.0)\n",
            "Requirement already satisfied: requests-oauthlib>=0.7.0 in /usr/local/lib/python3.6/dist-packages (from tweepy>=3.7.0->konlpy) (1.3.0)\n",
            "Requirement already satisfied: typing-extensions; python_version < \"3.8\" in /usr/local/lib/python3.6/dist-packages (from JPype1>=0.7.0->konlpy) (3.7.4.3)\n",
            "Requirement already satisfied: chardet<4,>=3.0.2 in /usr/local/lib/python3.6/dist-packages (from requests[socks]>=2.11.1->tweepy>=3.7.0->konlpy) (3.0.4)\n",
            "Requirement already satisfied: urllib3!=1.25.0,!=1.25.1,<1.26,>=1.21.1 in /usr/local/lib/python3.6/dist-packages (from requests[socks]>=2.11.1->tweepy>=3.7.0->konlpy) (1.24.3)\n",
            "Requirement already satisfied: certifi>=2017.4.17 in /usr/local/lib/python3.6/dist-packages (from requests[socks]>=2.11.1->tweepy>=3.7.0->konlpy) (2020.12.5)\n",
            "Requirement already satisfied: idna<3,>=2.5 in /usr/local/lib/python3.6/dist-packages (from requests[socks]>=2.11.1->tweepy>=3.7.0->konlpy) (2.10)\n",
            "Requirement already satisfied: PySocks!=1.5.7,>=1.5.6; extra == \"socks\" in /usr/local/lib/python3.6/dist-packages (from requests[socks]>=2.11.1->tweepy>=3.7.0->konlpy) (1.7.1)\n",
            "Requirement already satisfied: oauthlib>=3.0.0 in /usr/local/lib/python3.6/dist-packages (from requests-oauthlib>=0.7.0->tweepy>=3.7.0->konlpy) (3.1.0)\n",
            "Installing collected packages: tweepy, colorama, beautifulsoup4, JPype1, konlpy\n",
            "  Found existing installation: tweepy 3.6.0\n",
            "    Uninstalling tweepy-3.6.0:\n",
            "      Successfully uninstalled tweepy-3.6.0\n",
            "  Found existing installation: beautifulsoup4 4.6.3\n",
            "    Uninstalling beautifulsoup4-4.6.3:\n",
            "      Successfully uninstalled beautifulsoup4-4.6.3\n",
            "Successfully installed JPype1-1.2.1 beautifulsoup4-4.6.0 colorama-0.4.4 konlpy-0.5.2 tweepy-3.10.0\n",
            "Mounted at /content/drive\n"
          ],
          "name": "stdout"
        }
      ]
    },
    {
      "cell_type": "code",
      "metadata": {
        "colab": {
          "base_uri": "https://localhost:8080/",
          "height": 204
        },
        "id": "3osSZ7OqNt-g",
        "outputId": "dd6a4aa9-94e5-4131-e1ee-fc6db7763889"
      },
      "source": [
        "#training data load\r\n",
        "train_data = pd.read_csv(DATA_Path+'ratings_train.txt',header=0,delimiter='\\t',quoting=3)\r\n",
        "train_data.head()"
      ],
      "execution_count": null,
      "outputs": [
        {
          "output_type": "execute_result",
          "data": {
            "text/html": [
              "<div>\n",
              "<style scoped>\n",
              "    .dataframe tbody tr th:only-of-type {\n",
              "        vertical-align: middle;\n",
              "    }\n",
              "\n",
              "    .dataframe tbody tr th {\n",
              "        vertical-align: top;\n",
              "    }\n",
              "\n",
              "    .dataframe thead th {\n",
              "        text-align: right;\n",
              "    }\n",
              "</style>\n",
              "<table border=\"1\" class=\"dataframe\">\n",
              "  <thead>\n",
              "    <tr style=\"text-align: right;\">\n",
              "      <th></th>\n",
              "      <th>id</th>\n",
              "      <th>document</th>\n",
              "      <th>label</th>\n",
              "    </tr>\n",
              "  </thead>\n",
              "  <tbody>\n",
              "    <tr>\n",
              "      <th>0</th>\n",
              "      <td>9976970</td>\n",
              "      <td>아 더빙.. 진짜 짜증나네요 목소리</td>\n",
              "      <td>0</td>\n",
              "    </tr>\n",
              "    <tr>\n",
              "      <th>1</th>\n",
              "      <td>3819312</td>\n",
              "      <td>흠...포스터보고 초딩영화줄....오버연기조차 가볍지 않구나</td>\n",
              "      <td>1</td>\n",
              "    </tr>\n",
              "    <tr>\n",
              "      <th>2</th>\n",
              "      <td>10265843</td>\n",
              "      <td>너무재밓었다그래서보는것을추천한다</td>\n",
              "      <td>0</td>\n",
              "    </tr>\n",
              "    <tr>\n",
              "      <th>3</th>\n",
              "      <td>9045019</td>\n",
              "      <td>교도소 이야기구먼 ..솔직히 재미는 없다..평점 조정</td>\n",
              "      <td>0</td>\n",
              "    </tr>\n",
              "    <tr>\n",
              "      <th>4</th>\n",
              "      <td>6483659</td>\n",
              "      <td>사이몬페그의 익살스런 연기가 돋보였던 영화!스파이더맨에서 늙어보이기만 했던 커스틴 ...</td>\n",
              "      <td>1</td>\n",
              "    </tr>\n",
              "  </tbody>\n",
              "</table>\n",
              "</div>"
            ],
            "text/plain": [
              "         id                                           document  label\n",
              "0   9976970                                아 더빙.. 진짜 짜증나네요 목소리      0\n",
              "1   3819312                  흠...포스터보고 초딩영화줄....오버연기조차 가볍지 않구나      1\n",
              "2  10265843                                  너무재밓었다그래서보는것을추천한다      0\n",
              "3   9045019                      교도소 이야기구먼 ..솔직히 재미는 없다..평점 조정      0\n",
              "4   6483659  사이몬페그의 익살스런 연기가 돋보였던 영화!스파이더맨에서 늙어보이기만 했던 커스틴 ...      1"
            ]
          },
          "metadata": {
            "tags": []
          },
          "execution_count": 4
        }
      ]
    },
    {
      "cell_type": "code",
      "metadata": {
        "colab": {
          "base_uri": "https://localhost:8080/"
        },
        "id": "N1uSN7hpONLE",
        "outputId": "36a6d22b-c8b3-4b54-d93e-99ea86583d55"
      },
      "source": [
        "train_length = train_data['document'].astype(str).apply(len)\r\n",
        "print('길이 중간값 :',np.median(train_length))"
      ],
      "execution_count": null,
      "outputs": [
        {
          "output_type": "stream",
          "text": [
            "길이 중간값 : 27.0\n"
          ],
          "name": "stdout"
        }
      ]
    },
    {
      "cell_type": "code",
      "metadata": {
        "colab": {
          "base_uri": "https://localhost:8080/"
        },
        "id": "1jnHKi5gO1jK",
        "outputId": "0277de56-b404-4dd4-ea5e-fd22a089e06a"
      },
      "source": [
        "#단어 사용량 (단어 기준으로 불용어 제거해서 RNN 학습할 예정)\r\n",
        "train_review = [review for review in train_data['document'] if type(review) is str]\r\n",
        "train_word_count = train_data['document'].astype(str).apply(lambda x:len(x.split(' ')))\r\n",
        "print('단어 사용량 중간값 :',np.median(train_word_count))"
      ],
      "execution_count": null,
      "outputs": [
        {
          "output_type": "stream",
          "text": [
            "단어 사용량 중간값 : 6.0\n"
          ],
          "name": "stdout"
        }
      ]
    },
    {
      "cell_type": "code",
      "metadata": {
        "id": "3pSY5XoXPofg"
      },
      "source": [
        "#텍스트에서 한글 성분만 가져오기\r\n",
        "review_text = re.sub(\"[^가-힣ㄱ-ㅎㅏ-ㅣ\\\\s]\",'',train_data['document'][0])\r\n",
        "okt = Okt()\r\n",
        "review_text=okt.morphs(review_text,stem=True)"
      ],
      "execution_count": null,
      "outputs": []
    },
    {
      "cell_type": "code",
      "metadata": {
        "colab": {
          "base_uri": "https://localhost:8080/"
        },
        "id": "OIisg3SaU26c",
        "outputId": "2a364718-6fab-44db-f4fa-7d99100ca3e1"
      },
      "source": [
        "stopwords = set(['은','는','이','가','을','를','하','아','것','들','의','있','되','수','보','주','등','한'])\r\n",
        "clean_review = [token for token in review_text if token not in stopwords]\r\n",
        "print(clean_review)"
      ],
      "execution_count": null,
      "outputs": [
        {
          "output_type": "stream",
          "text": [
            "['더빙', '진짜', '짜증나다', '목소리']\n"
          ],
          "name": "stdout"
        }
      ]
    },
    {
      "cell_type": "code",
      "metadata": {
        "id": "yMq6kHqPWA0C"
      },
      "source": [
        "#각각의 리뷰 전처리 하는 과정 : 한글 성분만 가져와서 문장으로 연결, 각 문장을 어절로 분해해서 불용어 제거 \r\n",
        "def preprocessing(review,okt,using_stopwords=False,stop_words=[]):\r\n",
        "    review_text = re.sub(\"[^가-힣ㄱ-ㅎㅏ-ㅣ\\\\s]\",',',review)\r\n",
        "\r\n",
        "    word_review = okt.morphs(review_text,stem = True)\r\n",
        "    if using_stopwords:\r\n",
        "        clean_review = [token for token in word_review if token not in stopwords]\r\n",
        "    \r\n",
        "    return clean_review"
      ],
      "execution_count": null,
      "outputs": []
    },
    {
      "cell_type": "code",
      "metadata": {
        "colab": {
          "background_save": true
        },
        "id": "NfovC5IUW3m3"
      },
      "source": [
        "#training data에 대한 리뷰 데이터 전처리\r\n",
        "clean_review_data = []\r\n",
        "for review in train_data['document']:\r\n",
        "    if type(review) == str:\r\n",
        "        clean_review_data.append(preprocessing(review,okt,True,stop_words=stopwords))\r\n",
        "    else:\r\n",
        "        clean_review_data.append([])"
      ],
      "execution_count": null,
      "outputs": []
    },
    {
      "cell_type": "code",
      "metadata": {
        "id": "yQhFUGxnXX6S"
      },
      "source": [
        "#test 데이터에 대한 리뷰 데이터 전처리\r\n",
        "test_data = pd.read_csv(DATA_Path+'ratings_test.txt',header=0,delimiter='\\t',quoting=3)\r\n",
        "\r\n",
        "clean_test_review = []\r\n",
        "for review in test_data['document']:\r\n",
        "    if type(review) == str:\r\n",
        "        clean_test_review.append(preprocessing(review,okt,True,stop_words=stopwords))\r\n",
        "    else:\r\n",
        "        clean_test_review.append([])\r\n",
        "#데이터 tokenize 한 후 같은 길이로 맞춰줌, post-padding    \r\n",
        "tokenizer = Tokenizer()\r\n",
        "tokenizer.fit_on_texts(clean_review_data)\r\n",
        "train_seq = tokenizer.texts_to_sequences(clean_review_data)\r\n",
        "test_seq = tokenizer.texts_to_sequences(clean_test_review)\r\n",
        "\r\n",
        "word_vocab = tokenizer.word_index\r\n",
        "\r\n",
        "MAX_LEN = 15\r\n",
        "\r\n",
        "train_inputs = pad_sequences(train_seq,maxlen=MAX_LEN,padding='post')\r\n",
        "train_labels = np.array(train_data['label'])\r\n",
        "test_inputs = pad_sequences(test_seq,maxlen=MAX_LEN,padding='post')\r\n",
        "test_label = np.array(test_data['label'])"
      ],
      "execution_count": 47,
      "outputs": []
    },
    {
      "cell_type": "code",
      "metadata": {
        "id": "ThwmG_PKdZrO"
      },
      "source": [
        "#데이터 저장코드\r\n",
        "np.save(open(DATA_Path+'train_input.npy','wb'),train_inputs)\r\n",
        "np.save(open(DATA_Path+'train_label.npy','wb'),train_labels)\r\n",
        "np.save(open(DATA_Path+'test_input.npy','wb'),test_inputs)\r\n",
        "np.save(open(DATA_Path+'test_label.npy','wb'),test_label)\r\n",
        "\r\n",
        "data_configs = {}\r\n",
        "data_configs['vocab'] = word_vocab\r\n",
        "data_configs['vocab_size'] = len(word_vocab)+1\r\n",
        "\r\n",
        "json.dump(data_configs,open(DATA_Path+'data_configs.json','w'),ensure_ascii=False)"
      ],
      "execution_count": 49,
      "outputs": []
    },
    {
      "cell_type": "code",
      "metadata": {
        "id": "TyfNatJngCJL"
      },
      "source": [
        "import tensorflow as tf\r\n",
        "from tensorflow.keras.models import Sequential\r\n",
        "from tensorflow.keras.layers import LSTM,Dense,Embedding,Dropout\r\n",
        "from tensorflow.keras.optimizers import Adam"
      ],
      "execution_count": 29,
      "outputs": []
    },
    {
      "cell_type": "code",
      "metadata": {
        "colab": {
          "base_uri": "https://localhost:8080/"
        },
        "id": "v8f2UUiwiX4t",
        "outputId": "614165ec-8cb7-45fa-b4d8-7e566b35a172"
      },
      "source": [
        "#RNN 모델 구성\r\n",
        "model = Sequential()\r\n",
        "model.add(Embedding(data_configs['vocab_size'],output_dim=128))\r\n",
        "model.add(LSTM(256,return_sequences=True))\r\n",
        "model.add(LSTM(256))\r\n",
        "model.add(Dropout(0.3))\r\n",
        "model.add(Dense(128,activation='relu',kernel_initializer='glorot_normal'))\r\n",
        "model.add(Dropout(0.3))\r\n",
        "model.add(Dense(1,activation='sigmoid'))\r\n",
        "\r\n",
        "model.compile(optimizer=Adam(0.001),loss='binary_crossentropy',metrics=['acc'])\r\n",
        "model.summary()"
      ],
      "execution_count": 52,
      "outputs": [
        {
          "output_type": "stream",
          "text": [
            "Model: \"sequential_9\"\n",
            "_________________________________________________________________\n",
            "Layer (type)                 Output Shape              Param #   \n",
            "=================================================================\n",
            "embedding_9 (Embedding)      (None, None, 128)         5529728   \n",
            "_________________________________________________________________\n",
            "lstm_18 (LSTM)               (None, None, 256)         394240    \n",
            "_________________________________________________________________\n",
            "lstm_19 (LSTM)               (None, 256)               525312    \n",
            "_________________________________________________________________\n",
            "dropout_18 (Dropout)         (None, 256)               0         \n",
            "_________________________________________________________________\n",
            "dense_18 (Dense)             (None, 128)               32896     \n",
            "_________________________________________________________________\n",
            "dropout_19 (Dropout)         (None, 128)               0         \n",
            "_________________________________________________________________\n",
            "dense_19 (Dense)             (None, 1)                 129       \n",
            "=================================================================\n",
            "Total params: 6,482,305\n",
            "Trainable params: 6,482,305\n",
            "Non-trainable params: 0\n",
            "_________________________________________________________________\n"
          ],
          "name": "stdout"
        }
      ]
    },
    {
      "cell_type": "code",
      "metadata": {
        "colab": {
          "base_uri": "https://localhost:8080/"
        },
        "id": "xuGMdbp3ktdk",
        "outputId": "3ad8a179-6823-4077-bbca-52ee997d22c1"
      },
      "source": [
        "history = model.fit(train_inputs,train_labels,batch_size=512,epochs=8,validation_split=0.3)"
      ],
      "execution_count": 53,
      "outputs": [
        {
          "output_type": "stream",
          "text": [
            "Epoch 1/8\n",
            "206/206 [==============================] - 28s 116ms/step - loss: 0.5158 - acc: 0.7162 - val_loss: 0.3829 - val_acc: 0.8303\n",
            "Epoch 2/8\n",
            "206/206 [==============================] - 21s 100ms/step - loss: 0.3242 - acc: 0.8644 - val_loss: 0.3913 - val_acc: 0.8278\n",
            "Epoch 3/8\n",
            "206/206 [==============================] - 22s 108ms/step - loss: 0.2702 - acc: 0.8878 - val_loss: 0.4005 - val_acc: 0.8310\n",
            "Epoch 4/8\n",
            "206/206 [==============================] - 21s 101ms/step - loss: 0.2340 - acc: 0.9012 - val_loss: 0.4510 - val_acc: 0.8279\n",
            "Epoch 5/8\n",
            "206/206 [==============================] - 21s 104ms/step - loss: 0.1915 - acc: 0.9204 - val_loss: 0.5171 - val_acc: 0.8255\n",
            "Epoch 6/8\n",
            "206/206 [==============================] - 21s 101ms/step - loss: 0.1571 - acc: 0.9358 - val_loss: 0.5095 - val_acc: 0.8202\n",
            "Epoch 7/8\n",
            "206/206 [==============================] - 20s 99ms/step - loss: 0.1390 - acc: 0.9448 - val_loss: 0.5929 - val_acc: 0.8217\n",
            "Epoch 8/8\n",
            "206/206 [==============================] - 23s 112ms/step - loss: 0.1258 - acc: 0.9502 - val_loss: 0.6179 - val_acc: 0.8192\n"
          ],
          "name": "stdout"
        }
      ]
    },
    {
      "cell_type": "code",
      "metadata": {
        "colab": {
          "base_uri": "https://localhost:8080/"
        },
        "id": "Mh3F__rin2GX",
        "outputId": "b68cd212-a696-440a-a703-e0d8ae3bd11a"
      },
      "source": [
        "eval = model.evaluate(test_inputs,test_label)"
      ],
      "execution_count": 54,
      "outputs": [
        {
          "output_type": "stream",
          "text": [
            "1563/1563 [==============================] - 9s 6ms/step - loss: 0.6309 - acc: 0.8140\n"
          ],
          "name": "stdout"
        }
      ]
    }
  ]
}